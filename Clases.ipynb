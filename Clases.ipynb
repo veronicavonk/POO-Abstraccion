{
 "cells": [
  {
   "cell_type": "code",
   "execution_count": 93,
   "metadata": {},
   "outputs": [
    {
     "output_type": "stream",
     "name": "stdout",
     "text": "Caracteristicas de la licuadora: 10xyz\nMarca: Osterizer\nVelocidades: 4\nNumero de aspas: 3\nColor: Blanco\nDescripcion: Licuadora con 4 velocidades, para Pures, Jugos y Licuados Perfectos.\nCapacidad: 1.5 ls\n"
    }
   ],
   "source": [
    "class Licuadora():\n",
    "    modelo = \"\"\n",
    "    marca = \"\"\n",
    "    color =  \"\"\n",
    "    numeroAspas = 0\n",
    "    velocidad = 0\n",
    "    descripcion = \"\"\n",
    "    capacidad = 0.0\n",
    "\n",
    "    def __init__(self, modelo, marca, color, numeroAspas, velocidad,descripcion, capacidad):\n",
    "        self.modelo = modelo\n",
    "        self.marca = marca\n",
    "        self.color =  color\n",
    "        self.numeroAspas = numeroAspas\n",
    "        self.velocidad = velocidad\n",
    "        self.descripcion = descripcion\n",
    "        self.capacidad = capacidad\n",
    "\n",
    "    def encender(self):\n",
    "        print (\"Encendido!\")\n",
    "\n",
    "    def licuar(self, velocidad):\n",
    "        self.velocidad = velocidad\n",
    "        print(\"Licuando a velocidad \",self.velocidad)\n",
    "\n",
    "    def apagar(self):\n",
    "        print(\"Apagado\")\n",
    "    \n",
    "    def __str__(self):\n",
    "        return \"Caracteristicas de la licuadora: {}\\nMarca: {}\\nVelocidades: {}\\nNumero de aspas: {}\\nColor: {}\\nDescripcion: {}\\nCapacidad: {} ls\".format(self.modelo, self.marca, self.velocidad, self.numeroAspas, self.color,self.descripcion, self.capacidad)\n",
    "\n",
    "#Instanciando un objeto.        \n",
    "licuadora1 = Licuadora(capacidad = 1.5, modelo = \"10xyz\",marca = \"Osterizer\", color = \"Blanco\", numeroAspas = 3, velocidad  = 4, descripcion=\"Licuadora con 4 velocidades, para Pures, Jugos y Licuados Perfectos.\" )\n",
    "print (licuadora1)"
   ]
  },
  {
   "cell_type": "code",
   "execution_count": 49,
   "metadata": {},
   "outputs": [
    {
     "output_type": "stream",
     "name": "stdout",
     "text": "Encendido!\nNone\nLicuando a velocidad  1\nNone\nApagado\nNone\n"
    }
   ],
   "source": [
    "print (licuadora1.encender())\n",
    "print (licuadora1.licuar(1))\n",
    "print (licuadora1.apagar())"
   ]
  },
  {
   "cell_type": "code",
   "execution_count": 91,
   "metadata": {},
   "outputs": [
    {
     "output_type": "stream",
     "name": "stdout",
     "text": "5 13/10  (fraccion impropia)\n"
    }
   ],
   "source": [
    "class NumeroMixto():\n",
    "    entero = 0\n",
    "    numerador = 0\n",
    "    denominador =  0\n",
    "    \n",
    "    def __init__(self, entero, numerador, denominador):\n",
    "        self.entero = entero\n",
    "        self.numerador = numerador\n",
    "        self.denominador =  denominador\n",
    "\n",
    "    def __add__(self,mixto1):\n",
    "        # Suma la parte fraccionaria, el resultado se convierte a mixto\n",
    "        mcm = 0\n",
    "        if self.denominador != mixto1.denominador:\n",
    "            mcm = self.denominador*mixto1.denominador\n",
    "            self.numerador = (mcm/self.denominador)*self.numerador\n",
    "            mixto1.numerador = (mcm/mixto1.denominador)*mixto1.numerador\n",
    "        else:\n",
    "            mcm = self.denominador\n",
    "        sumaNum = int(self.numerador + mixto1.numerador)\n",
    "        # Suma la parte entera de los mixtos\n",
    "        sumaEntero = self.entero + mixto1.entero\n",
    "        return NumeroMixto(sumaEntero, sumaNum, mcm)\n",
    "    \n",
    "    def __str__(self):\n",
    "        tipo = \"\"\n",
    "        if self.numerador>self.denominador:\n",
    "            tipo = \"fraccion impropia\"\n",
    "        else:\n",
    "            tipo =\"fraccion propia\"\n",
    "        return \"{} {}/{}  ({})\".format(self.entero, self.numerador,self.denominador, tipo)\n",
    "\n",
    "\n",
    "#Instanciando objetos.        \n",
    "numeroMixto1 = NumeroMixto(2,4,5)\n",
    "numeroMixto2 = NumeroMixto(3,1,2)\n",
    "print (numeroMixto1 + numeroMixto2)"
   ]
  }
 ],
 "metadata": {
  "language_info": {
   "codemirror_mode": {
    "name": "ipython",
    "version": 3
   },
   "file_extension": ".py",
   "mimetype": "text/x-python",
   "name": "python",
   "nbconvert_exporter": "python",
   "pygments_lexer": "ipython3",
   "version": "3.8.3-candidate"
  },
  "orig_nbformat": 2,
  "kernelspec": {
   "name": "python38364bit1fe8ccc94fec476d9ca8d62203ef1064",
   "display_name": "Python 3.8.3 64-bit"
  }
 },
 "nbformat": 4,
 "nbformat_minor": 2
}